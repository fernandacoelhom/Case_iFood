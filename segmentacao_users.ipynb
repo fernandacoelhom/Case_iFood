{
 "cells": [
  {
   "cell_type": "code",
   "execution_count": 0,
   "metadata": {
    "application/vnd.databricks.v1+cell": {
     "cellMetadata": {
      "byteLimit": 2048000,
      "rowLimit": 10000
     },
     "inputWidgets": {},
     "nuid": "072ed9d3-ad38-44f6-9270-5ce675b4cd34",
     "showTitle": false,
     "tableResultSettingsMap": {},
     "title": ""
    }
   },
   "outputs": [],
   "source": [
    "# Importando libs\n",
    "from pyspark.sql.functions import months_between, lit, to_date\n",
    "from pyspark.sql import functions as F\n",
    "from pyspark.sql.functions import avg, sum as _sum, count, min as _min, max as _max, datediff\n",
    "import pandas as pd\n",
    "import datetime as dt\n",
    "import numpy as np\n",
    "\n",
    "#Importando bases\n",
    "user_orders = spark.table('workspace.tabelas_ifood.user_orders')\n",
    "consumer = spark.table('workspace.tabelas_ifood.consumer')\n",
    "ab_ref = spark.table('workspace.tabelas_ifood.ab_test_ref')\n",
    "restaurant = spark.table('workspace.tabelas_ifood.restaurant')"
   ]
  },
  {
   "cell_type": "code",
   "execution_count": 0,
   "metadata": {
    "application/vnd.databricks.v1+cell": {
     "cellMetadata": {
      "byteLimit": 2048000,
      "rowLimit": 10000
     },
     "inputWidgets": {},
     "nuid": "bf77ef44-095c-480f-83c7-86eb6264f8ee",
     "showTitle": false,
     "tableResultSettingsMap": {},
     "title": ""
    }
   },
   "outputs": [],
   "source": [
    "# Gerando variáveis descritivas para os usuários\n",
    "\n",
    "user_orders_pd = user_orders.toPandas()\n",
    "user_orders_pd['order_created_at'] = pd.to_datetime(user_orders_pd['order_created_at'])\n",
    "user_orders_pd['merchant_zip_code'] = user_orders_pd['merchant_zip_code'].astype('str')\n",
    "\n",
    "user_orders_summary = user_orders_pd.groupby(['customer_id']).agg(\n",
    "    order_count=('order_id', 'count'),\n",
    "    merchant_zip_code=('merchant_zip_code', 'first'),\n",
    "    avg_order_amount=('order_total_amount', 'mean')\n",
    ").reset_index().reset_index(drop=True)\n",
    "\n",
    "active_days = user_orders_pd.groupby('customer_id')['order_created_at'].agg(['min', 'max']).reset_index().reset_index(drop=True)\n",
    "active_days['active_days'] = (active_days['max'] - active_days['min']).dt.days\n",
    "user_orders_summary = user_orders_summary.merge(active_days[['customer_id','active_days']], on='customer_id', how='left')\n",
    "user_orders_summary['order_frequency'] = user_orders_summary['active_days']/user_orders_summary['order_count']"
   ]
  },
  {
   "cell_type": "code",
   "execution_count": 0,
   "metadata": {
    "application/vnd.databricks.v1+cell": {
     "cellMetadata": {
      "byteLimit": 2048000,
      "rowLimit": 10000
     },
     "inputWidgets": {},
     "nuid": "b373c6bc-f790-473e-81c3-c22f51c81141",
     "showTitle": false,
     "tableResultSettingsMap": {},
     "title": ""
    }
   },
   "outputs": [],
   "source": [
    "# Gerando métricas para cada cidade\n",
    "cities_orders_summary = user_orders_pd[['merchant_zip_code','customer_id','order_id','order_total_amount']].copy()\n",
    "cities_orders_summary = cities_orders_summary[cities_orders_summary['merchant_zip_code']!='0'].reset_index(drop='True')\n",
    "cities_orders_summary = cities_orders_summary.groupby(['customer_id','merchant_zip_code']).agg(\n",
    "    order_count=('order_id', 'count'),\n",
    "    avg_order_amount=('order_total_amount', 'mean')\n",
    ").reset_index().reset_index(drop=True)"
   ]
  },
  {
   "cell_type": "code",
   "execution_count": 0,
   "metadata": {
    "application/vnd.databricks.v1+cell": {
     "cellMetadata": {
      "byteLimit": 2048000,
      "rowLimit": 10000
     },
     "inputWidgets": {},
     "nuid": "97a40b64-d1ae-4680-a844-75e097dbdefe",
     "showTitle": false,
     "tableResultSettingsMap": {},
     "title": ""
    }
   },
   "outputs": [],
   "source": [
    "city_active_days = user_orders_pd.groupby('merchant_zip_code')['order_created_at'].agg(['min', 'max']).reset_index().reset_index(drop=True)\n",
    "city_active_days['active_days'] = (active_days['max'] - active_days['min']).dt.days\n",
    "cities_orders_summary = cities_orders_summary.merge(city_active_days[['merchant_zip_code','active_days']], on='merchant_zip_code', how='left')\n",
    "cities_orders_summary['city_order_frequency'] = cities_orders_summary['active_days']/cities_orders_summary['order_count']"
   ]
  },
  {
   "cell_type": "code",
   "execution_count": 0,
   "metadata": {
    "application/vnd.databricks.v1+cell": {
     "cellMetadata": {
      "byteLimit": 2048000,
      "rowLimit": 10000
     },
     "inputWidgets": {},
     "nuid": "ca06e060-fa5f-4567-9c9a-5df6152c9fb0",
     "showTitle": false,
     "tableResultSettingsMap": {},
     "title": ""
    }
   },
   "outputs": [],
   "source": [
    "# Criando função relativa para segmentação\n",
    "\n",
    "def calculate_quartiles(df, column):\n",
    "    Q1 = df[column].quantile(0.25)\n",
    "    Q2 = df[column].quantile(0.50)\n",
    "    Q3 = df[column].quantile(0.75)\n",
    "    return Q1, Q2, Q3"
   ]
  },
  {
   "cell_type": "code",
   "execution_count": 0,
   "metadata": {
    "application/vnd.databricks.v1+cell": {
     "cellMetadata": {
      "byteLimit": 2048000,
      "rowLimit": 10000
     },
     "inputWidgets": {},
     "nuid": "99ab8884-fb15-4d72-901a-163376aab678",
     "showTitle": false,
     "tableResultSettingsMap": {},
     "title": ""
    }
   },
   "outputs": [],
   "source": [
    "frequency_quartiles_dict = {}\n",
    "for zip_code in cities_orders_summary['merchant_zip_code'].unique():\n",
    "    zip_code_df = cities_orders_summary[cities_orders_summary['merchant_zip_code'] == zip_code]\n",
    "    Q1, Q2, Q3 = calculate_quartiles(zip_code_df, 'city_order_frequency')\n",
    "    frequency_quartiles_dict[zip_code] = {'Q1': Q1, 'Q2': Q2, 'Q3': Q3}"
   ]
  },
  {
   "cell_type": "code",
   "execution_count": 0,
   "metadata": {
    "application/vnd.databricks.v1+cell": {
     "cellMetadata": {
      "byteLimit": 2048000,
      "rowLimit": 10000
     },
     "inputWidgets": {},
     "nuid": "0e7b441e-8108-4964-8b12-02588bc954a4",
     "showTitle": false,
     "tableResultSettingsMap": {},
     "title": ""
    }
   },
   "outputs": [],
   "source": [
    "amount_quartiles_dict = {}\n",
    "for zip_code in cities_orders_summary['merchant_zip_code'].unique():\n",
    "    zip_code_df = cities_orders_summary[cities_orders_summary['merchant_zip_code'] == zip_code]\n",
    "    Q1, Q2, Q3 = calculate_quartiles(zip_code_df, 'avg_order_amount')\n",
    "    amount_quartiles_dict[zip_code] = {'Q1': Q1, 'Q2': Q2, 'Q3': Q3}"
   ]
  },
  {
   "cell_type": "code",
   "execution_count": 0,
   "metadata": {
    "application/vnd.databricks.v1+cell": {
     "cellMetadata": {
      "byteLimit": 2048000,
      "rowLimit": 10000
     },
     "inputWidgets": {},
     "nuid": "c6afd775-457c-4261-a662-9a4ec20459a5",
     "showTitle": false,
     "tableResultSettingsMap": {},
     "title": ""
    }
   },
   "outputs": [],
   "source": [
    "# Segmentando usuários conforme o zip_code\n",
    "\n",
    "def get_price_range(zip_code, avg_order_amount):\n",
    "    quartiles = amount_quartiles_dict.get(zip_code, {})\n",
    "    Q1 = quartiles.get('Q1', float('inf'))\n",
    "    Q2 = quartiles.get('Q2', float('inf'))\n",
    "    Q3 = quartiles.get('Q3', float('inf'))\n",
    "    \n",
    "    if avg_order_amount < Q1:\n",
    "        return '$'\n",
    "    elif Q1 <= avg_order_amount < Q2:\n",
    "        return '$$'\n",
    "    elif Q2 <= avg_order_amount < Q3:\n",
    "        return '$$$'\n",
    "    else:\n",
    "        return '$$$$'\n",
    "\n",
    "user_orders_summary['price_range'] = user_orders_summary.apply(\n",
    "    lambda row: get_price_range(row['merchant_zip_code'], row['avg_order_amount']), axis=1\n",
    ")"
   ]
  },
  {
   "cell_type": "code",
   "execution_count": 0,
   "metadata": {
    "application/vnd.databricks.v1+cell": {
     "cellMetadata": {
      "byteLimit": 2048000,
      "rowLimit": 10000
     },
     "inputWidgets": {},
     "nuid": "fd7fd195-918a-46d5-b1dc-7356514fe195",
     "showTitle": false,
     "tableResultSettingsMap": {},
     "title": ""
    }
   },
   "outputs": [],
   "source": [
    "def get_order_frequency(zip_code, order_frequency):\n",
    "    quartiles = frequency_quartiles_dict.get(zip_code, {})\n",
    "    Q1 = quartiles.get('Q1', float('inf'))\n",
    "    Q2 = quartiles.get('Q2', float('inf'))\n",
    "    Q3 = quartiles.get('Q3', float('inf'))\n",
    "    \n",
    "    if order_frequency < Q1:\n",
    "        return 'muito alta'\n",
    "    elif Q1 <= order_frequency < Q2:\n",
    "        return 'alta'\n",
    "    elif Q2 <= order_frequency < Q3:\n",
    "        return 'moderada'\n",
    "    else:\n",
    "        return 'baixa'\n",
    "\n",
    "user_orders_summary['frequency_range'] = user_orders_summary.apply(\n",
    "    lambda row: get_order_frequency(row['merchant_zip_code'], row['order_frequency']), axis=1\n",
    ")"
   ]
  },
  {
   "cell_type": "code",
   "execution_count": 0,
   "metadata": {
    "application/vnd.databricks.v1+cell": {
     "cellMetadata": {
      "byteLimit": 2048000,
      "rowLimit": 10000
     },
     "inputWidgets": {},
     "nuid": "6c14210b-9b26-47de-9b62-6ea849955ca4",
     "showTitle": false,
     "tableResultSettingsMap": {},
     "title": ""
    }
   },
   "outputs": [],
   "source": [
    "user_labeled = user_orders_summary[['customer_id','merchant_zip_code','price_range','frequency_range']].copy()\n",
    "user_labeled_spark = spark.createDataFrame(user_labeled)"
   ]
  },
  {
   "cell_type": "code",
   "execution_count": 0,
   "metadata": {
    "application/vnd.databricks.v1+cell": {
     "cellMetadata": {
      "byteLimit": 2048000,
      "rowLimit": 10000
     },
     "inputWidgets": {},
     "nuid": "b6380040-4a2e-4d73-a34e-4eb8289c3bf0",
     "showTitle": false,
     "tableResultSettingsMap": {},
     "title": ""
    }
   },
   "outputs": [],
   "source": [
    "user_labeled_spark.write.mode('overwrite').saveAsTable('workspace.tabelas_ifood.user_labels')"
   ]
  }
 ],
 "metadata": {
  "application/vnd.databricks.v1+notebook": {
   "computePreferences": null,
   "dashboards": [],
   "environmentMetadata": {
    "base_environment": "",
    "environment_version": "2"
   },
   "inputWidgetPreferences": null,
   "language": "python",
   "notebookMetadata": {
    "pythonIndentUnit": 4
   },
   "notebookName": "segmentacao_users",
   "widgets": {}
  },
  "language_info": {
   "name": "python"
  }
 },
 "nbformat": 4,
 "nbformat_minor": 0
}
