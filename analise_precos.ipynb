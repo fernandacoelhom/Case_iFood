{
 "cells": [
  {
   "cell_type": "code",
   "execution_count": 0,
   "metadata": {
    "application/vnd.databricks.v1+cell": {
     "cellMetadata": {
      "byteLimit": 2048000,
      "rowLimit": 10000
     },
     "inputWidgets": {},
     "nuid": "a3551eab-141c-4458-9c3d-4c159f9a9ab1",
     "showTitle": false,
     "tableResultSettingsMap": {},
     "title": ""
    }
   },
   "outputs": [],
   "source": [
    "# Importando libs\n",
    "from pyspark.sql.functions import to_date\n",
    "from pyspark.sql import functions as F\n",
    "import pandas as pd\n",
    "import numpy as np\n",
    "from scipy.stats import mannwhitneyu"
   ]
  },
  {
   "cell_type": "code",
   "execution_count": 0,
   "metadata": {
    "application/vnd.databricks.v1+cell": {
     "cellMetadata": {
      "byteLimit": 2048000,
      "rowLimit": 10000
     },
     "inputWidgets": {},
     "nuid": "047128a5-994e-45e5-adb4-009f2777fc31",
     "showTitle": false,
     "tableResultSettingsMap": {},
     "title": ""
    }
   },
   "outputs": [],
   "source": [
    "#Importando as bases\n",
    "order = spark.table('workspace.tabelas_ifood.order').dropDuplicates()\n",
    "order_details = spark.table('workspace.tabelas_ifood.order_details').dropDuplicates()\n",
    "ab_ref = spark.table('workspace.tabelas_ifood.ab_test_ref').dropDuplicates()\n",
    "\n",
    "# Estimando preço dos pedidos de acordo com o preço unitário de cada item e guarnição \n",
    "order = order.withColumn('order_created_at', to_date('order_created_at'))\n",
    "order = order.withColumn('order_scheduled_date', to_date('order_scheduled_date'))\n",
    "order_details = order_details.withColumn('order_created_at', to_date('order_created_at'))\n",
    "\n",
    "order_calc_price = order_details.select('order_id','order_created_at','item_sequence','item_externalId','garnish_externalId',\n",
    "'item_quantity','unit_price','garnish_quantity','garnish_unit_price').dropDuplicates().fillna({'order_id': '', 'order_created_at': '', 'item_sequence': '', 'item_externalId': '', 'garnish_externalId': '', 'item_quantity': 0, 'unit_price': 0, 'garnish_quantity': 0, 'garnish_unit_price': 0})\n",
    "\n",
    "order_calc_price = order_calc_price.withColumn('unit_price', F.col('unit_price').cast('double')/100)\n",
    "order_calc_price = order_calc_price.withColumn('garnish_unit_price', F.col('garnish_unit_price').cast('double')/100)\n",
    "\n",
    "order_calc_price = order_calc_price.withColumn('total_item_calc_price', F.round(F.col('item_quantity') * F.col('unit_price'), 2))\n",
    "order_calc_price = order_calc_price.withColumn('total_garnish_calc_price', F.round(F.col('garnish_quantity') * F.col('garnish_unit_price'), 2))"
   ]
  },
  {
   "cell_type": "code",
   "execution_count": 0,
   "metadata": {
    "application/vnd.databricks.v1+cell": {
     "cellMetadata": {
      "byteLimit": 2048000,
      "rowLimit": 10000
     },
     "inputWidgets": {},
     "nuid": "636ac203-b702-4ae3-8301-4f495794b025",
     "showTitle": false,
     "tableResultSettingsMap": {},
     "title": ""
    }
   },
   "outputs": [],
   "source": [
    "#Agrupando guarnições de um mesmo item\n",
    "order_calc_total_garnish = order_calc_price.groupBy('order_id','order_created_at','item_sequence','item_externalId').agg(F.round(F.sum('total_garnish_calc_price'), 2).alias('total_garnish_calc_price'))\n",
    "\n",
    "#Calculando preço por item+guarnições\n",
    "order_calc_price = order_calc_price.select('order_id','order_created_at','item_sequence','item_externalId','total_item_calc_price').dropDuplicates()\n",
    "order_calc_price = order_calc_price.join(order_calc_total_garnish, on=['order_id','order_created_at','item_sequence','item_externalId'])\n",
    "order_calc_price = order_calc_price.withColumn('total_item_cost', F.round(F.col('total_item_calc_price') + F.col('total_garnish_calc_price'), 2))\n",
    "\n",
    "#Calculando preço total do pedido\n",
    "order_calc_price_total = order_calc_price.groupBy('order_id','order_created_at').agg(F.round(F.sum('total_item_cost'), 2).alias('total_order_amount_calc'))\n",
    "\n",
    "#Base unificada e com grupos de teste\n",
    "order_calc_price = order_calc_price.join(order_calc_price_total, on=['order_id','order_created_at'], how='left')\n",
    "order = order.select('customer_id', 'order_id', 'merchant_id', 'order_created_at', 'order_total_amount')\n",
    "order_complete = order.join(order_calc_price, on=['order_id', 'order_created_at'], how='left')\n",
    "order_complete = order_complete.join(ab_ref, on=['customer_id'], how='left')\n",
    "\n",
    "#Separando bases por grupo\n",
    "order_prices_target = order_complete.filter(order_complete.is_target == 'target')\n",
    "order_prices_control = order_complete.filter(order_complete.is_target == 'control')"
   ]
  },
  {
   "cell_type": "code",
   "execution_count": 0,
   "metadata": {
    "application/vnd.databricks.v1+cell": {
     "cellMetadata": {
      "byteLimit": 2048000,
      "rowLimit": 10000
     },
     "inputWidgets": {},
     "nuid": "8f80619e-b989-47fe-8ab9-906c43f0d6be",
     "showTitle": false,
     "tableResultSettingsMap": {},
     "title": ""
    }
   },
   "outputs": [],
   "source": [
    "#Verificando se os preços pagos pelos clientes do grupo de teste foram significativamente menores que os estimados\n",
    "order_prices_target_pd = order_prices_target.toPandas()"
   ]
  },
  {
   "cell_type": "code",
   "execution_count": 0,
   "metadata": {
    "application/vnd.databricks.v1+cell": {
     "cellMetadata": {
      "byteLimit": 2048000,
      "rowLimit": 10000
     },
     "inputWidgets": {},
     "nuid": "5208a406-2480-4203-947e-ddbd3f9ae9b0",
     "showTitle": false,
     "tableResultSettingsMap": {},
     "title": ""
    }
   },
   "outputs": [
    {
     "output_type": "stream",
     "name": "stdout",
     "output_type": "stream",
     "text": [
      "difference_percentage:  0.10567292909964093\n"
     ]
    }
   ],
   "source": [
    "order_prices_target_pd['diff_price'] = np.where(order_prices_target_pd['order_total_amount'] != order_prices_target_pd['total_order_amount_calc'], 'yes', 'no')\n",
    "order_prices_diff =  order_prices_target_pd[['order_id','order_created_at','diff_price']].drop_duplicates()\n",
    "print('difference_percentage: ',order_prices_diff['diff_price'].value_counts()['yes']/order_prices_diff['diff_price'].value_counts()['no'])"
   ]
  },
  {
   "cell_type": "code",
   "execution_count": 0,
   "metadata": {
    "application/vnd.databricks.v1+cell": {
     "cellMetadata": {
      "byteLimit": 2048000,
      "rowLimit": 10000
     },
     "inputWidgets": {},
     "nuid": "e1480a85-551f-48bf-97e5-be87333c6adf",
     "showTitle": false,
     "tableResultSettingsMap": {},
     "title": ""
    }
   },
   "outputs": [
    {
     "output_type": "stream",
     "name": "stdout",
     "output_type": "stream",
     "text": [
      "Mann-Whitney U test para avg_order_amount (p-valor): 0.0000\n"
     ]
    }
   ],
   "source": [
    "# Aplicando o teste Mann-Whitney para comparação dos grupos\n",
    "\n",
    "stat, p_val = mannwhitneyu(\n",
    "    order_prices_target_pd['order_total_amount'].dropna(),\n",
    "    order_prices_target_pd['total_order_amount_calc'].dropna(),\n",
    "    alternative='two-sided'\n",
    ")\n",
    "print(f\"Mann-Whitney U test para avg_order_amount (p-valor): {p_val:.4f}\")"
   ]
  },
  {
   "cell_type": "code",
   "execution_count": 0,
   "metadata": {
    "application/vnd.databricks.v1+cell": {
     "cellMetadata": {
      "byteLimit": 2048000,
      "rowLimit": 10000
     },
     "inputWidgets": {},
     "nuid": "62863eb4-5310-488e-bc64-0877578588ad",
     "showTitle": false,
     "tableResultSettingsMap": {},
     "title": ""
    }
   },
   "outputs": [
    {
     "output_type": "stream",
     "name": "stdout",
     "output_type": "stream",
     "text": [
      "Mann-Whitney U test para avg_order_amount (p-valor): 0.0000\n"
     ]
    },
    {
     "output_type": "stream",
     "name": "stderr",
     "output_type": "stream",
     "text": [
      "IOStream.flush timed out\n"
     ]
    }
   ],
   "source": [
    "#Verificando se há diferença de preço entre itens de mesmo id dos grupos\n",
    "diff_items = order_prices_target.select('item_externalId','total_item_calc_price').dropDuplicates().join(order_prices_control.select('item_externalId','total_item_calc_price').dropDuplicates().withColumnRenamed('total_item_calc_price','total_item_calc_price_control'), on=['item_externalId'], how='left')\n",
    "diff_items_pd = diff_items.toPandas()\n",
    "\n",
    "# Aplicando o teste Mann-Whitney para comparação dos grupos\n",
    "\n",
    "stat, p_val = mannwhitneyu(\n",
    "    diff_items_pd['total_item_calc_price'].dropna(),\n",
    "    diff_items_pd['total_item_calc_price_control'].dropna(),\n",
    "    alternative='two-sided'\n",
    ")\n",
    "print(f\"Mann-Whitney U test para avg_order_amount (p-valor): {p_val:.4f}\")"
   ]
  }
 ],
 "metadata": {
  "application/vnd.databricks.v1+notebook": {
   "computePreferences": null,
   "dashboards": [],
   "environmentMetadata": {
    "base_environment": "",
    "environment_version": "2"
   },
   "inputWidgetPreferences": null,
   "language": "python",
   "notebookMetadata": {
    "pythonIndentUnit": 4
   },
   "notebookName": "analise_precos",
   "widgets": {}
  },
  "language_info": {
   "name": "python"
  }
 },
 "nbformat": 4,
 "nbformat_minor": 0
}