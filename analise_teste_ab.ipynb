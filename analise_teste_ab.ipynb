{
 "cells": [
  {
   "cell_type": "code",
   "execution_count": 0,
   "metadata": {
    "application/vnd.databricks.v1+cell": {
     "cellMetadata": {
      "byteLimit": 2048000,
      "rowLimit": 10000
     },
     "inputWidgets": {},
     "nuid": "9383c977-e051-4fef-b2a8-b8d37b8b9d49",
     "showTitle": false,
     "tableResultSettingsMap": {},
     "title": ""
    }
   },
   "outputs": [],
   "source": [
    "#Importando bibliotecas\n",
    "\n",
    "from pyspark.sql import functions as F\n",
    "from pyspark.sql.functions import avg, sum as _sum, count, min as _min, max as _max, datediff\n",
    "import pandas as pd\n",
    "import numpy as np\n",
    "import seaborn as sns\n",
    "import plotly.express as px\n",
    "import matplotlib.pyplot as plt\n",
    "from scipy.stats import stats, ttest_ind, chi2_contingency, shapiro, mannwhitneyu"
   ]
  },
  {
   "cell_type": "code",
   "execution_count": 0,
   "metadata": {
    "application/vnd.databricks.v1+cell": {
     "cellMetadata": {
      "byteLimit": 2048000,
      "rowLimit": 10000
     },
     "inputWidgets": {},
     "nuid": "672c3428-20c6-4837-b45a-8ebe2f40cbfe",
     "showTitle": false,
     "tableResultSettingsMap": {},
     "title": ""
    }
   },
   "outputs": [],
   "source": [
    "#Importando bases de clientes\n",
    "user_orders = spark.table('workspace.tabelas_ifood.user_orders')\n",
    "consumer = spark.table('workspace.tabelas_ifood.consumer').dropDuplicates()\n",
    "ab_ref = spark.table('workspace.tabelas_ifood.ab_test_ref').dropDuplicates()"
   ]
  },
  {
   "cell_type": "code",
   "execution_count": 0,
   "metadata": {
    "application/vnd.databricks.v1+cell": {
     "cellMetadata": {
      "byteLimit": 2048000,
      "rowLimit": 10000
     },
     "inputWidgets": {},
     "nuid": "26e4d1de-3000-4228-83cb-73dadc202523",
     "showTitle": false,
     "tableResultSettingsMap": {},
     "title": ""
    }
   },
   "outputs": [],
   "source": [
    "# Checando distribuição dos grupos de teste e controle\n",
    "consumer_groups = consumer.join(ab_ref, on='customer_id')\n",
    "consumer_groups = consumer_groups.toPandas() #Conversão em pandas dataframe para análises estatísticas"
   ]
  },
  {
   "cell_type": "code",
   "execution_count": 0,
   "metadata": {
    "application/vnd.databricks.v1+cell": {
     "cellMetadata": {
      "byteLimit": 2048000,
      "rowLimit": 10000
     },
     "inputWidgets": {},
     "nuid": "1ef110ea-9a3e-4915-872c-6b05da167284",
     "showTitle": false,
     "tableResultSettingsMap": {},
     "title": ""
    }
   },
   "outputs": [
    {
     "output_type": "execute_result",
     "data": {
      "text/html": [
       "<div>\n",
       "<style scoped>\n",
       "    .dataframe tbody tr th:only-of-type {\n",
       "        vertical-align: middle;\n",
       "    }\n",
       "\n",
       "    .dataframe tbody tr th {\n",
       "        vertical-align: top;\n",
       "    }\n",
       "\n",
       "    .dataframe thead th {\n",
       "        text-align: right;\n",
       "    }\n",
       "</style>\n",
       "<table border=\"1\" class=\"dataframe\">\n",
       "  <thead>\n",
       "    <tr style=\"text-align: right;\">\n",
       "      <th></th>\n",
       "      <th>customer_id</th>\n",
       "      <th>language</th>\n",
       "      <th>created_at</th>\n",
       "      <th>active</th>\n",
       "      <th>customer_name</th>\n",
       "      <th>customer_phone_area</th>\n",
       "      <th>customer_phone_number</th>\n",
       "      <th>is_target</th>\n",
       "    </tr>\n",
       "  </thead>\n",
       "  <tbody>\n",
       "    <tr>\n",
       "      <th>0</th>\n",
       "      <td>5c71cf8f3f4e490c1fc36f8c09386156bc3bbbf359574a...</td>\n",
       "      <td>pt-br</td>\n",
       "      <td>2018-01-05 01:13:04.670</td>\n",
       "      <td>True</td>\n",
       "      <td>MARCEL</td>\n",
       "      <td>6</td>\n",
       "      <td>744468121</td>\n",
       "      <td>target</td>\n",
       "    </tr>\n",
       "    <tr>\n",
       "      <th>1</th>\n",
       "      <td>06ed1101a1809874583017dda9b47bace2b1c483587832...</td>\n",
       "      <td>pt-br</td>\n",
       "      <td>2018-04-06 03:32:15.666</td>\n",
       "      <td>True</td>\n",
       "      <td>TITO</td>\n",
       "      <td>95</td>\n",
       "      <td>807741523</td>\n",
       "      <td>target</td>\n",
       "    </tr>\n",
       "    <tr>\n",
       "      <th>2</th>\n",
       "      <td>5d16e9a8e39616c7a7100191a27261e76be3179f774df7...</td>\n",
       "      <td>pt-br</td>\n",
       "      <td>2018-01-06 16:57:20.477</td>\n",
       "      <td>True</td>\n",
       "      <td>VAGNER</td>\n",
       "      <td>37</td>\n",
       "      <td>74979169</td>\n",
       "      <td>target</td>\n",
       "    </tr>\n",
       "    <tr>\n",
       "      <th>3</th>\n",
       "      <td>f4d8960dbad9c3d02664316639e525effe6274dd9a9830...</td>\n",
       "      <td>pt-br</td>\n",
       "      <td>2018-04-06 05:06:31.818</td>\n",
       "      <td>True</td>\n",
       "      <td>ISABELA</td>\n",
       "      <td>68</td>\n",
       "      <td>471876071</td>\n",
       "      <td>control</td>\n",
       "    </tr>\n",
       "    <tr>\n",
       "      <th>4</th>\n",
       "      <td>c12f39c32a93e001554abae73b418ff563e7a41b392cdf...</td>\n",
       "      <td>pt-br</td>\n",
       "      <td>2018-03-01 16:05:26.848</td>\n",
       "      <td>True</td>\n",
       "      <td>JOÃO</td>\n",
       "      <td>16</td>\n",
       "      <td>232076216</td>\n",
       "      <td>target</td>\n",
       "    </tr>\n",
       "    <tr>\n",
       "      <th>...</th>\n",
       "      <td>...</td>\n",
       "      <td>...</td>\n",
       "      <td>...</td>\n",
       "      <td>...</td>\n",
       "      <td>...</td>\n",
       "      <td>...</td>\n",
       "      <td>...</td>\n",
       "      <td>...</td>\n",
       "    </tr>\n",
       "    <tr>\n",
       "      <th>806151</th>\n",
       "      <td>73014a25f96e6164a7c90414b9c7be1e416d234c6e5da9...</td>\n",
       "      <td>pt-br</td>\n",
       "      <td>2018-04-06 05:11:12.946</td>\n",
       "      <td>False</td>\n",
       "      <td>PAULA</td>\n",
       "      <td>11</td>\n",
       "      <td>263977608</td>\n",
       "      <td>target</td>\n",
       "    </tr>\n",
       "    <tr>\n",
       "      <th>806152</th>\n",
       "      <td>7be7a5605a00d1cc5156c35acd62deef1e6cc5c927d1b1...</td>\n",
       "      <td>pt-br</td>\n",
       "      <td>2018-01-07 15:32:20.918</td>\n",
       "      <td>True</td>\n",
       "      <td>BRENO</td>\n",
       "      <td>11</td>\n",
       "      <td>610963163</td>\n",
       "      <td>target</td>\n",
       "    </tr>\n",
       "    <tr>\n",
       "      <th>806153</th>\n",
       "      <td>e008f32032a86f8d112d1d5736ba65913ea228b726aeee...</td>\n",
       "      <td>pt-br</td>\n",
       "      <td>2018-01-03 15:43:11.316</td>\n",
       "      <td>True</td>\n",
       "      <td>PATRICIA</td>\n",
       "      <td>1</td>\n",
       "      <td>944410685</td>\n",
       "      <td>target</td>\n",
       "    </tr>\n",
       "    <tr>\n",
       "      <th>806154</th>\n",
       "      <td>ad8d97e569d12c3fa6172405a474c594f0bfd074ae949a...</td>\n",
       "      <td>pt-br</td>\n",
       "      <td>2018-01-03 23:28:27.475</td>\n",
       "      <td>True</td>\n",
       "      <td>DANY</td>\n",
       "      <td>28</td>\n",
       "      <td>712735950</td>\n",
       "      <td>control</td>\n",
       "    </tr>\n",
       "    <tr>\n",
       "      <th>806155</th>\n",
       "      <td>3cdd8a67661f94b773427342683b55d6d04603f118f665...</td>\n",
       "      <td>pt-br</td>\n",
       "      <td>2018-01-03 21:38:30.140</td>\n",
       "      <td>True</td>\n",
       "      <td>JOSÉ</td>\n",
       "      <td>35</td>\n",
       "      <td>531282437</td>\n",
       "      <td>control</td>\n",
       "    </tr>\n",
       "  </tbody>\n",
       "</table>\n",
       "<p>806156 rows × 8 columns</p>\n",
       "</div>"
      ],
      "text/plain": [
       "                                              customer_id  ... is_target\n",
       "0       5c71cf8f3f4e490c1fc36f8c09386156bc3bbbf359574a...  ...    target\n",
       "1       06ed1101a1809874583017dda9b47bace2b1c483587832...  ...    target\n",
       "2       5d16e9a8e39616c7a7100191a27261e76be3179f774df7...  ...    target\n",
       "3       f4d8960dbad9c3d02664316639e525effe6274dd9a9830...  ...   control\n",
       "4       c12f39c32a93e001554abae73b418ff563e7a41b392cdf...  ...    target\n",
       "...                                                   ...  ...       ...\n",
       "806151  73014a25f96e6164a7c90414b9c7be1e416d234c6e5da9...  ...    target\n",
       "806152  7be7a5605a00d1cc5156c35acd62deef1e6cc5c927d1b1...  ...    target\n",
       "806153  e008f32032a86f8d112d1d5736ba65913ea228b726aeee...  ...    target\n",
       "806154  ad8d97e569d12c3fa6172405a474c594f0bfd074ae949a...  ...   control\n",
       "806155  3cdd8a67661f94b773427342683b55d6d04603f118f665...  ...   control\n",
       "\n",
       "[806156 rows x 8 columns]"
      ]
     },
     "execution_count": 7,
     "metadata": {},
     "output_type": "execute_result"
    }
   ],
   "source": [
    "consumer_groups"
   ]
  },
  {
   "cell_type": "code",
   "execution_count": 0,
   "metadata": {
    "application/vnd.databricks.v1+cell": {
     "cellMetadata": {
      "byteLimit": 2048000,
      "rowLimit": 10000
     },
     "inputWidgets": {},
     "nuid": "b3a67a9c-5111-4b43-9d3d-eee61058afaf",
     "showTitle": false,
     "tableResultSettingsMap": {},
     "title": ""
    }
   },
   "outputs": [
    {
     "output_type": "execute_result",
     "data": {
      "text/plain": [
       "60    8268\n",
       "61    8223\n",
       "56    8201\n",
       "62    8199\n",
       "12    8197\n",
       "      ... \n",
       "17    7921\n",
       "92    7921\n",
       "38    7915\n",
       "48    7903\n",
       "0     7324\n",
       "Name: customer_phone_area, Length: 100, dtype: Int64"
      ]
     },
     "execution_count": 9,
     "metadata": {},
     "output_type": "execute_result"
    }
   ],
   "source": [
    "consumer_groups['customer_phone_area'] = consumer_groups['customer_phone_area'].astype('string')\n",
    "consumer_groups['customer_phone_area'].value_counts()"
   ]
  },
  {
   "cell_type": "code",
   "execution_count": 0,
   "metadata": {
    "application/vnd.databricks.v1+cell": {
     "cellMetadata": {
      "byteLimit": 2048000,
      "rowLimit": 10000
     },
     "inputWidgets": {},
     "nuid": "ad29e4d5-8f23-4128-9119-a131e643e5f4",
     "showTitle": false,
     "tableResultSettingsMap": {},
     "title": ""
    }
   },
   "outputs": [
    {
     "output_type": "execute_result",
     "data": {
      "text/plain": [
       "pt-br    806154\n",
       "es-ar         2\n",
       "Name: language, dtype: int64"
      ]
     },
     "execution_count": 10,
     "metadata": {},
     "output_type": "execute_result"
    }
   ],
   "source": [
    "consumer_groups['language'].value_counts()"
   ]
  },
  {
   "cell_type": "code",
   "execution_count": 0,
   "metadata": {
    "application/vnd.databricks.v1+cell": {
     "cellMetadata": {
      "byteLimit": 2048000,
      "rowLimit": 10000
     },
     "inputWidgets": {},
     "nuid": "7a896ec9-719c-4f6c-8d6a-07c6c53a253a",
     "showTitle": false,
     "tableResultSettingsMap": {},
     "title": ""
    }
   },
   "outputs": [
    {
     "output_type": "execute_result",
     "data": {
      "text/plain": [
       "True     804561\n",
       "False      1595\n",
       "Name: active, dtype: int64"
      ]
     },
     "execution_count": 11,
     "metadata": {},
     "output_type": "execute_result"
    }
   ],
   "source": [
    "consumer_groups['active'] = consumer_groups['active'].astype('string')\n",
    "consumer_groups['active'].value_counts()"
   ]
  },
  {
   "cell_type": "code",
   "execution_count": 0,
   "metadata": {
    "application/vnd.databricks.v1+cell": {
     "cellMetadata": {
      "byteLimit": 2048000,
      "rowLimit": 10000
     },
     "inputWidgets": {},
     "nuid": "be44188c-7a4d-4cd4-9587-fdda68f8b35b",
     "showTitle": false,
     "tableResultSettingsMap": {},
     "title": ""
    }
   },
   "outputs": [
    {
     "output_type": "stream",
     "name": "stdout",
     "output_type": "stream",
     "text": [
      "Chi² statistic: 122.10012929258038\np-valor: 0.05757133692513383\n"
     ]
    }
   ],
   "source": [
    "# Checando uniformidade da distribuição pelas variáveis de área telefônica e atividade \n",
    "\n",
    "contingency_table = pd.crosstab(consumer_groups['is_target'], consumer_groups['customer_phone_area'])\n",
    "chi2, p, dof, expected = chi2_contingency(contingency_table)\n",
    "\n",
    "print(f\"Chi² statistic: {chi2}\")\n",
    "print(f\"p-valor: {p}\")"
   ]
  },
  {
   "cell_type": "code",
   "execution_count": 0,
   "metadata": {
    "application/vnd.databricks.v1+cell": {
     "cellMetadata": {
      "byteLimit": 2048000,
      "rowLimit": 10000
     },
     "inputWidgets": {},
     "nuid": "615fefd5-f3bf-4a0c-b00a-052c6f970ee2",
     "showTitle": false,
     "tableResultSettingsMap": {},
     "title": ""
    }
   },
   "outputs": [
    {
     "output_type": "stream",
     "name": "stdout",
     "output_type": "stream",
     "text": [
      "Chi² statistic: 0.0\np-valor: 1.0\n"
     ]
    }
   ],
   "source": [
    "contingency_table = pd.crosstab(consumer_groups['is_target'], consumer_groups['active'])\n",
    "chi2, p, dof, expected = chi2_contingency(contingency_table)\n",
    "\n",
    "print(f\"Chi² statistic: {chi2}\")\n",
    "print(f\"p-valor: {p}\")"
   ]
  },
  {
   "cell_type": "code",
   "execution_count": 0,
   "metadata": {
    "application/vnd.databricks.v1+cell": {
     "cellMetadata": {
      "byteLimit": 2048000,
      "rowLimit": 10000
     },
     "inputWidgets": {},
     "nuid": "0383ea9e-60bb-4cda-ba27-072c73bba78e",
     "showTitle": false,
     "tableResultSettingsMap": {},
     "title": ""
    },
    "jupyter": {
     "outputs_hidden": true
    }
   },
   "outputs": [
    {
     "output_type": "display_data",
     "data": {
      "text/html": [
       "<style scoped>\n",
       "  .table-result-container {\n",
       "    max-height: 300px;\n",
       "    overflow: auto;\n",
       "  }\n",
       "  table, th, td {\n",
       "    border: 1px solid black;\n",
       "    border-collapse: collapse;\n",
       "  }\n",
       "  th, td {\n",
       "    padding: 5px;\n",
       "  }\n",
       "  th {\n",
       "    text-align: left;\n",
       "  }\n",
       "</style><div class='table-result-container'><table class='table-result'><thead style='background-color: white'><tr><th>merchant_id</th><th>customer_id</th><th>language</th><th>created_at</th><th>active</th><th>customer_name</th><th>customer_phone_area</th><th>customer_phone_number</th><th>is_target</th><th>user_months</th><th>order_id</th><th>order_created_at</th><th>delivery_address_city</th><th>delivery_address_state</th><th>origin_platform</th><th>order_total_amount</th><th>item_count</th><th>garnish_count</th><th>restaurant_created_at</th><th>enabled</th><th>price_range</th><th>average_ticket</th><th>takeout_time</th><th>delivery_time</th><th>minimum_order_value</th><th>merchant_zip_code</th><th>merchant_city</th><th>merchant_state</th><th>merchant_country</th></tr></thead><tbody></tbody></table></div>"
      ]
     },
     "metadata": {
      "application/vnd.databricks.v1+output": {
       "addedWidgets": {},
       "aggData": [],
       "aggError": "",
       "aggOverflow": false,
       "aggSchema": [],
       "aggSeriesLimitReached": false,
       "aggType": "",
       "arguments": {},
       "columnCustomDisplayInfos": {},
       "data": [],
       "datasetInfos": [],
       "dbfsResultPath": null,
       "isJsonSchema": true,
       "metadata": {},
       "overflow": false,
       "plotOptions": {
        "customPlotOptions": {},
        "displayType": "table",
        "pivotAggregation": null,
        "pivotColumns": null,
        "xColumns": null,
        "yColumns": null
       },
       "removedWidgets": [],
       "schema": [
        {
         "metadata": "{}",
         "name": "merchant_id",
         "type": "\"string\""
        },
        {
         "metadata": "{}",
         "name": "customer_id",
         "type": "\"string\""
        },
        {
         "metadata": "{}",
         "name": "language",
         "type": "\"string\""
        },
        {
         "metadata": "{}",
         "name": "created_at",
         "type": "\"timestamp\""
        },
        {
         "metadata": "{}",
         "name": "active",
         "type": "\"boolean\""
        },
        {
         "metadata": "{}",
         "name": "customer_name",
         "type": "\"string\""
        },
        {
         "metadata": "{}",
         "name": "customer_phone_area",
         "type": "\"long\""
        },
        {
         "metadata": "{}",
         "name": "customer_phone_number",
         "type": "\"long\""
        },
        {
         "metadata": "{}",
         "name": "is_target",
         "type": "\"string\""
        },
        {
         "metadata": "{}",
         "name": "user_months",
         "type": "\"double\""
        },
        {
         "metadata": "{}",
         "name": "order_id",
         "type": "\"string\""
        },
        {
         "metadata": "{}",
         "name": "order_created_at",
         "type": "\"date\""
        },
        {
         "metadata": "{}",
         "name": "delivery_address_city",
         "type": "\"string\""
        },
        {
         "metadata": "{}",
         "name": "delivery_address_state",
         "type": "\"string\""
        },
        {
         "metadata": "{}",
         "name": "origin_platform",
         "type": "\"string\""
        },
        {
         "metadata": "{}",
         "name": "order_total_amount",
         "type": "\"double\""
        },
        {
         "metadata": "{}",
         "name": "item_count",
         "type": "\"double\""
        },
        {
         "metadata": "{}",
         "name": "garnish_count",
         "type": "\"double\""
        },
        {
         "metadata": "{}",
         "name": "restaurant_created_at",
         "type": "\"timestamp\""
        },
        {
         "metadata": "{}",
         "name": "enabled",
         "type": "\"boolean\""
        },
        {
         "metadata": "{}",
         "name": "price_range",
         "type": "\"integer\""
        },
        {
         "metadata": "{}",
         "name": "average_ticket",
         "type": "\"double\""
        },
        {
         "metadata": "{}",
         "name": "takeout_time",
         "type": "\"integer\""
        },
        {
         "metadata": "{}",
         "name": "delivery_time",
         "type": "\"integer\""
        },
        {
         "metadata": "{}",
         "name": "minimum_order_value",
         "type": "\"double\""
        },
        {
         "metadata": "{}",
         "name": "merchant_zip_code",
         "type": "\"integer\""
        },
        {
         "metadata": "{}",
         "name": "merchant_city",
         "type": "\"string\""
        },
        {
         "metadata": "{}",
         "name": "merchant_state",
         "type": "\"string\""
        },
        {
         "metadata": "{}",
         "name": "merchant_country",
         "type": "\"string\""
        }
       ],
       "type": "table"
      }
     },
     "output_type": "display_data"
    }
   ],
   "source": [
    "#Analisando dados de pedidos agendados\n",
    "display(user_orders.filter((F.col('order_scheduled') == True) & (F.col('order_scheduled_date') > F.col('order_created_at'))))"
   ]
  },
  {
   "cell_type": "code",
   "execution_count": 0,
   "metadata": {
    "application/vnd.databricks.v1+cell": {
     "cellMetadata": {
      "byteLimit": 2048000,
      "rowLimit": 10000
     },
     "inputWidgets": {},
     "nuid": "d31095c1-1bf5-4b46-bc84-4ea152743df0",
     "showTitle": false,
     "tableResultSettingsMap": {},
     "title": ""
    }
   },
   "outputs": [],
   "source": [
    "#As datas de entrega de pedidos agendados não fazem sentido em relação às datas de criação, logo serão desconsiderados\n",
    "user_orders = user_orders.filter(user_orders['order_scheduled'] != True)\n",
    "user_orders = user_orders.drop('order_scheduled','order_scheduled_date')"
   ]
  },
  {
   "cell_type": "code",
   "execution_count": 0,
   "metadata": {
    "application/vnd.databricks.v1+cell": {
     "cellMetadata": {
      "byteLimit": 2048000,
      "rowLimit": 10000
     },
     "inputWidgets": {},
     "nuid": "9b9f7080-da57-4faa-85b1-e77873d5d4d0",
     "showTitle": false,
     "tableResultSettingsMap": {},
     "title": ""
    }
   },
   "outputs": [],
   "source": [
    "# Criando KPIs para avaliação do teste\n",
    "user_orders = user_orders.fillna(0)\n",
    "user_orders_metrics = user_orders.groupBy('customer_id','created_at','active','is_target','user_months').agg(\n",
    "    avg('item_count').alias('avg_item_count'),\n",
    "    _sum('item_count').alias('sum_items'),\n",
    "    avg('order_total_amount').alias('avg_order_amount'),\n",
    "    _sum('order_total_amount').alias('sum_total_amount'),\n",
    "    count('order_id').alias('order_count'),\n",
    "    _min('order_created_at').alias(\"first_order\"),\n",
    "    _max('order_created_at').alias(\"last_order\")\n",
    ")\n",
    "\n",
    "user_orders_metrics = user_orders_metrics.withColumn(\n",
    "    \"days_between_orders\", datediff(\"last_order\", \"first_order\")\n",
    ")\n",
    "\n",
    "user_orders_metrics_pd = user_orders_metrics.toPandas()"
   ]
  },
  {
   "cell_type": "code",
   "execution_count": 0,
   "metadata": {
    "application/vnd.databricks.v1+cell": {
     "cellMetadata": {
      "byteLimit": 2048000,
      "rowLimit": 10000
     },
     "inputWidgets": {},
     "nuid": "3874bebf-c366-43c9-b573-f35756b734e6",
     "showTitle": false,
     "tableResultSettingsMap": {},
     "title": ""
    }
   },
   "outputs": [
    {
     "output_type": "display_data",
     "data": {
      "image/png": "[encoded data removed]",
      "text/plain": [
       "<Figure size 1500x1000 with 6 Axes>"
      ]
     },
     "metadata": {},
     "output_type": "display_data"
    }
   ],
   "source": [
    "#Checando se há outliers\n",
    "boxplot_columns = ['avg_item_count', 'sum_items', 'avg_order_amount', 'sum_total_amount', 'order_count']\n",
    "user_orders_metrics_pd[boxplot_columns].plot(kind='box', subplots=True, layout=(2, 3), figsize=(15, 10))\n",
    "plt.tight_layout()\n",
    "plt.show()"
   ]
  },
  {
   "cell_type": "code",
   "execution_count": 0,
   "metadata": {
    "application/vnd.databricks.v1+cell": {
     "cellMetadata": {
      "byteLimit": 2048000,
      "rowLimit": 10000
     },
     "inputWidgets": {},
     "nuid": "154cd7df-c1ee-4f42-85a6-f67f65588b86",
     "showTitle": false,
     "tableResultSettingsMap": {},
     "title": ""
    }
   },
   "outputs": [
    {
     "output_type": "display_data",
     "data": {
      "image/png": "[encoded data removed]",
      "text/plain": [
       "<Figure size 1500x1000 with 6 Axes>"
      ]
     },
     "metadata": {},
     "output_type": "display_data"
    }
   ],
   "source": [
    "#Removendo outliers e checando resultado\n",
    "user_orders_metrics_pd = user_orders_metrics_pd[(np.abs(stats.zscore(user_orders_metrics_pd[boxplot_columns])) < 1).all(axis=1)]\n",
    "\n",
    "user_orders_metrics_pd[boxplot_columns].plot(kind='box', subplots=True, layout=(2, 3), figsize=(15, 10))\n",
    "plt.tight_layout()\n",
    "plt.show()"
   ]
  },
  {
   "cell_type": "code",
   "execution_count": 0,
   "metadata": {
    "application/vnd.databricks.v1+cell": {
     "cellMetadata": {
      "byteLimit": 2048000,
      "rowLimit": 10000
     },
     "inputWidgets": {},
     "nuid": "1c4ea551-c19d-43f1-bbe4-3d9ccbb44081",
     "showTitle": false,
     "tableResultSettingsMap": {},
     "title": ""
    }
   },
   "outputs": [],
   "source": [
    "#Dividindo grupos de teste para comparação\n",
    "df_target = user_orders_metrics_pd[user_orders_metrics_pd['is_target'] == 'target']\n",
    "df_control = user_orders_metrics_pd[user_orders_metrics_pd['is_target'] == 'control']"
   ]
  },
  {
   "cell_type": "code",
   "execution_count": 0,
   "metadata": {
    "application/vnd.databricks.v1+cell": {
     "cellMetadata": {
      "byteLimit": 2048000,
      "rowLimit": 10000
     },
     "inputWidgets": {},
     "nuid": "e003f649-4c6e-4a78-8ec0-7f1123d29bae",
     "showTitle": false,
     "tableResultSettingsMap": {},
     "title": ""
    }
   },
   "outputs": [
    {
     "output_type": "stream",
     "name": "stdout",
     "output_type": "stream",
     "text": [
      "Shapiro-Wilk test statistic: 0.8407, p-value: 0.0000\n"
     ]
    }
   ],
   "source": [
    "#Fazendo teste de Shapiro para verificar se as variáveis seguem uma distribuição normal\n",
    "stat, p_value = shapiro(df_target['order_count'].dropna())\n",
    "print(f\"Shapiro-Wilk test statistic: {stat:.4f}, p-value: {p_value:.4f}\")"
   ]
  },
  {
   "cell_type": "code",
   "execution_count": 0,
   "metadata": {
    "application/vnd.databricks.v1+cell": {
     "cellMetadata": {
      "byteLimit": 2048000,
      "rowLimit": 10000
     },
     "inputWidgets": {},
     "nuid": "568e71f3-5e2d-4714-bfd6-35e39e192394",
     "showTitle": false,
     "tableResultSettingsMap": {},
     "title": ""
    }
   },
   "outputs": [
    {
     "output_type": "stream",
     "name": "stdout",
     "output_type": "stream",
     "text": [
      "Shapiro-Wilk test statistic: 0.8706, p-value: 0.0000\n"
     ]
    }
   ],
   "source": [
    "stat, p_value = shapiro(df_target['days_between_orders'].dropna())\n",
    "print(f\"Shapiro-Wilk test statistic: {stat:.4f}, p-value: {p_value:.4f}\")"
   ]
  },
  {
   "cell_type": "code",
   "execution_count": 0,
   "metadata": {
    "application/vnd.databricks.v1+cell": {
     "cellMetadata": {
      "byteLimit": 2048000,
      "rowLimit": 10000
     },
     "inputWidgets": {},
     "nuid": "af9bdbdb-d7a9-41b5-98a8-4d0a6219cd6a",
     "showTitle": false,
     "tableResultSettingsMap": {},
     "title": ""
    }
   },
   "outputs": [
    {
     "output_type": "stream",
     "name": "stdout",
     "output_type": "stream",
     "text": [
      "Shapiro-Wilk test statistic: 0.8407, p-value: 0.0000\n"
     ]
    }
   ],
   "source": [
    "stat, p_value = shapiro(df_target['order_count_normal'].dropna())\n",
    "print(f\"Shapiro-Wilk test statistic: {stat:.4f}, p-value: {p_value:.4f}\")"
   ]
  },
  {
   "cell_type": "code",
   "execution_count": 0,
   "metadata": {
    "application/vnd.databricks.v1+cell": {
     "cellMetadata": {
      "byteLimit": 2048000,
      "rowLimit": 10000
     },
     "inputWidgets": {},
     "nuid": "543cad90-10b2-4758-818d-9216b034af61",
     "showTitle": false,
     "tableResultSettingsMap": {},
     "title": ""
    }
   },
   "outputs": [
    {
     "output_type": "stream",
     "name": "stdout",
     "output_type": "stream",
     "text": [
      "Shapiro-Wilk test statistic: 0.8381, p-value: 0.0000\n"
     ]
    }
   ],
   "source": [
    "stat, p_value = shapiro(df_target['sum_total_amount'].dropna())\n",
    "print(f\"Shapiro-Wilk test statistic: {stat:.4f}, p-value: {p_value:.4f}\")"
   ]
  },
  {
   "cell_type": "code",
   "execution_count": 0,
   "metadata": {
    "application/vnd.databricks.v1+cell": {
     "cellMetadata": {
      "byteLimit": 2048000,
      "rowLimit": 10000
     },
     "inputWidgets": {},
     "nuid": "18212b05-0166-48b7-87f4-4fc6a9845d9b",
     "showTitle": false,
     "tableResultSettingsMap": {},
     "title": ""
    }
   },
   "outputs": [
    {
     "output_type": "stream",
     "name": "stdout",
     "output_type": "stream",
     "text": [
      "Shapiro-Wilk test statistic: 0.9184, p-value: 0.0000\n"
     ]
    }
   ],
   "source": [
    "stat, p_value = shapiro(df_target['avg_order_amount'].dropna())\n",
    "print(f\"Shapiro-Wilk test statistic: {stat:.4f}, p-value: {p_value:.4f}\")"
   ]
  },
  {
   "cell_type": "code",
   "execution_count": 0,
   "metadata": {
    "application/vnd.databricks.v1+cell": {
     "cellMetadata": {
      "byteLimit": 2048000,
      "rowLimit": 10000
     },
     "inputWidgets": {},
     "nuid": "df71ba0d-b22d-46e7-ab15-c98d34bf8a46",
     "showTitle": false,
     "tableResultSettingsMap": {},
     "title": ""
    }
   },
   "outputs": [
    {
     "output_type": "stream",
     "name": "stdout",
     "output_type": "stream",
     "text": [
      "Shapiro-Wilk test statistic: 0.9208, p-value: 0.0000\n"
     ]
    }
   ],
   "source": [
    "stat, p_value = shapiro(df_target['avg_item_count'].dropna())\n",
    "print(f\"Shapiro-Wilk test statistic: {stat:.4f}, p-value: {p_value:.4f}\")"
   ]
  },
  {
   "cell_type": "code",
   "execution_count": 0,
   "metadata": {
    "application/vnd.databricks.v1+cell": {
     "cellMetadata": {
      "byteLimit": 2048000,
      "rowLimit": 10000
     },
     "inputWidgets": {},
     "nuid": "8404379f-ef37-4c61-ad03-fbcd039eb41a",
     "showTitle": false,
     "tableResultSettingsMap": {},
     "title": ""
    }
   },
   "outputs": [
    {
     "output_type": "stream",
     "name": "stdout",
     "output_type": "stream",
     "text": [
      "Shapiro-Wilk test statistic: 0.8303, p-value: 0.0000\n"
     ]
    }
   ],
   "source": [
    "stat, p_value = shapiro(df_target['sum_items'].dropna())\n",
    "print(f\"Shapiro-Wilk test statistic: {stat:.4f}, p-value: {p_value:.4f}\")"
   ]
  },
  {
   "cell_type": "code",
   "execution_count": 0,
   "metadata": {
    "application/vnd.databricks.v1+cell": {
     "cellMetadata": {
      "byteLimit": 2048000,
      "rowLimit": 10000
     },
     "inputWidgets": {},
     "nuid": "6384794f-ffd5-493f-85e4-e9d09c274681",
     "showTitle": false,
     "tableResultSettingsMap": {},
     "title": ""
    }
   },
   "outputs": [
    {
     "output_type": "stream",
     "name": "stdout",
     "output_type": "stream",
     "text": [
      "Mann-Whitney U test para order_count (p-valor): 0.0000\n"
     ]
    }
   ],
   "source": [
    "# Como nenhuma das variáveis segue uma distribuição normal, vamos utilizar o teste de Mann-Whitney para comparação dos grupos\n",
    "stat, p_val = mannwhitneyu(\n",
    "    df_target['order_count'].dropna(),\n",
    "    df_control['order_count'].dropna(),\n",
    "    alternative='two-sided'\n",
    ")\n",
    "print(f\"Mann-Whitney U test para order_count (p-valor): {p_val:.4f}\")"
   ]
  },
  {
   "cell_type": "code",
   "execution_count": 0,
   "metadata": {
    "application/vnd.databricks.v1+cell": {
     "cellMetadata": {
      "byteLimit": 2048000,
      "rowLimit": 10000
     },
     "inputWidgets": {},
     "nuid": "1aede8f8-97cb-4017-944e-8f3cba44a502",
     "showTitle": false,
     "tableResultSettingsMap": {},
     "title": ""
    }
   },
   "outputs": [
    {
     "output_type": "stream",
     "name": "stdout",
     "output_type": "stream",
     "text": [
      "Mann-Whitney U test para sum_total_amount (p-valor): 0.0000\n"
     ]
    }
   ],
   "source": [
    "stat, p_val = mannwhitneyu(\n",
    "    df_target['sum_total_amount'].dropna(),\n",
    "    df_control['sum_total_amount'].dropna(),\n",
    "    alternative='two-sided'\n",
    ")\n",
    "print(f\"Mann-Whitney U test para sum_total_amount (p-valor): {p_val:.4f}\")"
   ]
  },
  {
   "cell_type": "code",
   "execution_count": 0,
   "metadata": {
    "application/vnd.databricks.v1+cell": {
     "cellMetadata": {
      "byteLimit": 2048000,
      "rowLimit": 10000
     },
     "inputWidgets": {},
     "nuid": "28b46504-5744-41db-855b-488f2add1396",
     "showTitle": false,
     "tableResultSettingsMap": {},
     "title": ""
    }
   },
   "outputs": [
    {
     "output_type": "stream",
     "name": "stdout",
     "output_type": "stream",
     "text": [
      "Mann-Whitney U test para avg_order_amount (p-valor): 0.0007\n"
     ]
    }
   ],
   "source": [
    "stat, p_val = mannwhitneyu(\n",
    "    df_target['avg_order_amount'].dropna(),\n",
    "    df_control['avg_order_amount'].dropna(),\n",
    "    alternative='two-sided'\n",
    ")\n",
    "print(f\"Mann-Whitney U test para avg_order_amount (p-valor): {p_val:.4f}\")"
   ]
  },
  {
   "cell_type": "code",
   "execution_count": 0,
   "metadata": {
    "application/vnd.databricks.v1+cell": {
     "cellMetadata": {
      "byteLimit": 2048000,
      "rowLimit": 10000
     },
     "inputWidgets": {},
     "nuid": "b0b0e5d6-ba9f-4a18-b419-9ae6e32080cd",
     "showTitle": false,
     "tableResultSettingsMap": {},
     "title": ""
    }
   },
   "outputs": [
    {
     "output_type": "stream",
     "name": "stdout",
     "output_type": "stream",
     "text": [
      "Mann-Whitney U test para sum_items (p-valor): 0.0000\n"
     ]
    }
   ],
   "source": [
    "stat, p_val = mannwhitneyu(\n",
    "    df_target['sum_items'].dropna(),\n",
    "    df_control['sum_items'].dropna(),\n",
    "    alternative='two-sided'\n",
    ")\n",
    "print(f\"Mann-Whitney U test para sum_items (p-valor): {p_val:.4f}\")"
   ]
  },
  {
   "cell_type": "code",
   "execution_count": 0,
   "metadata": {
    "application/vnd.databricks.v1+cell": {
     "cellMetadata": {
      "byteLimit": 2048000,
      "rowLimit": 10000
     },
     "inputWidgets": {},
     "nuid": "245db8d1-74a7-4cbf-a7ae-bd21d92c01c4",
     "showTitle": false,
     "tableResultSettingsMap": {},
     "title": ""
    }
   },
   "outputs": [
    {
     "output_type": "stream",
     "name": "stdout",
     "output_type": "stream",
     "text": [
      "Mann-Whitney U test para avg_item_count (p-valor): 0.0000\n"
     ]
    }
   ],
   "source": [
    "stat, p_val = mannwhitneyu(\n",
    "    df_target['avg_item_count'].dropna(),\n",
    "    df_control['avg_item_count'].dropna(),\n",
    "    alternative='two-sided'\n",
    ")\n",
    "print(f\"Mann-Whitney U test para avg_item_count (p-valor): {p_val:.4f}\")"
   ]
  },
  {
   "cell_type": "code",
   "execution_count": 0,
   "metadata": {
    "application/vnd.databricks.v1+cell": {
     "cellMetadata": {
      "byteLimit": 2048000,
      "rowLimit": 10000
     },
     "inputWidgets": {},
     "nuid": "fc1c7ff7-e4a6-4ae4-b35f-ab711500adcf",
     "showTitle": false,
     "tableResultSettingsMap": {},
     "title": ""
    }
   },
   "outputs": [
    {
     "output_type": "stream",
     "name": "stdout",
     "output_type": "stream",
     "text": [
      "Mann-Whitney U test para avg_item_count (p-valor): 0.0000\n"
     ]
    }
   ],
   "source": [
    "stat, p_val = mannwhitneyu(\n",
    "    df_target['days_between_orders'].dropna(),\n",
    "    df_control['days_between_orders'].dropna(),\n",
    "    alternative='two-sided'\n",
    ")\n",
    "print(f\"Mann-Whitney U test para avg_item_count (p-valor): {p_val:.4f}\")"
   ]
  },
  {
   "cell_type": "code",
   "execution_count": 0,
   "metadata": {
    "application/vnd.databricks.v1+cell": {
     "cellMetadata": {},
     "inputWidgets": {},
     "nuid": "430e77f6-3e09-4603-92e0-daae7f4783b5",
     "showTitle": false,
     "tableResultSettingsMap": {},
     "title": ""
    }
   },
   "outputs": [],
   "source": [
    "# Estasticamente, não há diferença significativa de parâmetros de sucesso entre os dois grupos"
   ]
  }
 ],
 "metadata": {
  "application/vnd.databricks.v1+notebook": {
   "computePreferences": null,
   "dashboards": [],
   "environmentMetadata": {
    "base_environment": "",
    "environment_version": "2"
   },
   "inputWidgetPreferences": null,
   "language": "python",
   "notebookMetadata": {
    "pythonIndentUnit": 4
   },
   "notebookName": "analise_teste_ab",
   "widgets": {}
  },
  "language_info": {
   "name": "python"
  }
 },
 "nbformat": 4,
 "nbformat_minor": 0
}