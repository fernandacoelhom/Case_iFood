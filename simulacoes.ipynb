{
 "cells": [
  {
   "cell_type": "code",
   "execution_count": 0,
   "metadata": {
    "application/vnd.databricks.v1+cell": {
     "cellMetadata": {
      "byteLimit": 2048000,
      "rowLimit": 10000
     },
     "inputWidgets": {},
     "nuid": "1cd01a09-e94a-42f7-a464-e7f3236ac74a",
     "showTitle": false,
     "tableResultSettingsMap": {},
     "title": ""
    }
   },
   "outputs": [],
   "source": [
    "from pyspark.sql import SparkSession\n",
    "from pyspark.sql.functions import col, avg, count, sum as _sum, when, lit\n",
    "from pyspark.sql.functions import rand, when\n",
    "\n",
    "# Importando bases\n",
    "user_orders = spark.table('workspace.tabelas_ifood.user_orders').drop('price_range')\n",
    "user_groups = spark.table('workspace.tabelas_ifood.user_labels')\n",
    "user_orders = user_orders.join(user_groups,on='customer_id',how='left')\n",
    "\n",
    "margem = 0.25\n",
    "custo_cupom = 10\n",
    "roi_target = 0.1"
   ]
  },
  {
   "cell_type": "code",
   "execution_count": 0,
   "metadata": {
    "application/vnd.databricks.v1+cell": {
     "cellMetadata": {
      "byteLimit": 2048000,
      "rowLimit": 10000
     },
     "inputWidgets": {},
     "nuid": "17318b6b-1b8a-4309-ac09-139fb906596f",
     "showTitle": false,
     "tableResultSettingsMap": {},
     "title": ""
    }
   },
   "outputs": [],
   "source": [
    "# Testando segmentacao de frequencia - usuarios com pouca atividade\n",
    "\n",
    "frequency_group = user_orders.filter(user_orders['frequency_range'] == 'baixa')\n",
    "\n",
    "frequency_group_metrics = frequency_group.groupBy('is_target').agg(\n",
    "    count('customer_id').alias('usuarios'),\n",
    "    avg('order_total_amount').alias('ticket_medio'),\n",
    "    _sum('order_total_amount').alias('valor_total'),\n",
    "    count('order_id').alias('num_pedidos')\n",
    ")"
   ]
  },
  {
   "cell_type": "code",
   "execution_count": 0,
   "metadata": {
    "application/vnd.databricks.v1+cell": {
     "cellMetadata": {
      "byteLimit": 2048000,
      "rowLimit": 10000
     },
     "inputWidgets": {},
     "nuid": "a39ec220-333c-4c34-9bc8-29fbe37a35eb",
     "showTitle": false,
     "tableResultSettingsMap": {},
     "title": ""
    }
   },
   "outputs": [
    {
     "output_type": "stream",
     "name": "stdout",
     "output_type": "stream",
     "text": [
      "=== Viabilidade Financeira da Campanha ===\nPedidos extras (incrementais): 146127\nValor extra movimentado: R$ 7,056,370.93\nLucro estimado extra (margem 25%): R$ 1,764,092.73\nCusto total dos cupons: R$ 5,169,920.00\nROI da campanha: -0.66\n"
     ]
    }
   ],
   "source": [
    "# Impacto incremental e ROI\n",
    "\n",
    "control = frequency_group_metrics.filter(frequency_group_metrics['is_target'] == 'control').collect()[0]\n",
    "target = frequency_group_metrics.filter(frequency_group_metrics['is_target'] == 'target').collect()[0]\n",
    "\n",
    "# Cálculo incremental\n",
    "pedidos_extra = target[\"num_pedidos\"] - control[\"num_pedidos\"]\n",
    "valor_extra = target[\"valor_total\"] - control[\"valor_total\"]\n",
    "lucro_extra = valor_extra * margem\n",
    "custo_total_cupons = target[\"num_pedidos\"] * custo_cupom\n",
    "roi = (lucro_extra - custo_total_cupons) / custo_total_cupons if custo_total_cupons > 0 else None\n",
    "\n",
    "# Resultado\n",
    "print(\"=== Resultado da Campanha ===\")\n",
    "print(f\"Pedidos extras (incrementais): {pedidos_extra}\")\n",
    "print(f\"Valor extra movimentado: R$ {valor_extra:,.2f}\")\n",
    "print(f\"Lucro estimado extra (margem 25%): R$ {lucro_extra:,.2f}\")\n",
    "print(f\"Custo total dos cupons: R$ {custo_total_cupons:,.2f}\")\n",
    "print(f\"ROI da campanha: {roi:.2f}\" if roi is not None else \"ROI: indefinido (divisão por zero)\")"
   ]
  },
  {
   "cell_type": "code",
   "execution_count": 0,
   "metadata": {
    "application/vnd.databricks.v1+cell": {
     "cellMetadata": {
      "byteLimit": 2048000,
      "rowLimit": 10000
     },
     "inputWidgets": {},
     "nuid": "1473f34a-acb1-4b21-889d-72e1e1631fe9",
     "showTitle": false,
     "tableResultSettingsMap": {},
     "title": ""
    }
   },
   "outputs": [
    {
     "output_type": "stream",
     "name": "stdout",
     "output_type": "stream",
     "text": [
      "=== Meta de retenção ===\nMeta de lucro: R$ 3,922,819.27\nValor total de pedidos: R$ 15,691,277.07\nNúmero de pedidos: 326,661.80\nTaxa de retenção necessária: 0.63\n"
     ]
    }
   ],
   "source": [
    "lucro_target = (roi_target*custo_total_cupons) + custo_total_cupons\n",
    "lucro_gap = lucro_target - lucro_extra\n",
    "total_pedidos = lucro_gap/margem\n",
    "numero_pedidos = total_pedidos/target['ticket_medio']\n",
    "taxa_retencao_target = numero_pedidos/target['usuarios']\n",
    "\n",
    "# Expectativa de retorno\n",
    "print(\"=== Meta de retenção ===\")\n",
    "print(f\"Meta de lucro: R$ {lucro_gap:,.2f}\")\n",
    "print(f\"Valor total de pedidos: R$ {total_pedidos:,.2f}\")\n",
    "print(f\"Número de pedidos: {numero_pedidos:,.2f}\")\n",
    "print(f\"Taxa de retenção necessária: {taxa_retencao_target:,.2f}\")"
   ]
  },
  {
   "cell_type": "code",
   "execution_count": 0,
   "metadata": {
    "application/vnd.databricks.v1+cell": {
     "cellMetadata": {
      "byteLimit": 2048000,
      "rowLimit": 10000
     },
     "inputWidgets": {},
     "nuid": "b58f21ce-def5-4f66-9a78-b89e634d1a8b",
     "showTitle": false,
     "tableResultSettingsMap": {},
     "title": ""
    }
   },
   "outputs": [],
   "source": [
    "# Testando segmentacao de ticket medio - usuarios com ticket medio alto\n",
    "\n",
    "price_group = user_orders.filter(user_orders['price_range'] == '$$$$')\n",
    "\n",
    "price_group_metrics = price_group.groupBy('is_target').agg(\n",
    "    count('customer_id').alias('usuarios'),\n",
    "    avg('order_total_amount').alias('ticket_medio'),\n",
    "    _sum('order_total_amount').alias('valor_total'),\n",
    "    count('order_id').alias('num_pedidos')\n",
    ")"
   ]
  },
  {
   "cell_type": "code",
   "execution_count": 0,
   "metadata": {
    "application/vnd.databricks.v1+cell": {
     "cellMetadata": {
      "byteLimit": 2048000,
      "rowLimit": 10000
     },
     "inputWidgets": {},
     "nuid": "e8124879-5a51-45d7-a77b-cadd5700ea26",
     "showTitle": false,
     "tableResultSettingsMap": {},
     "title": ""
    }
   },
   "outputs": [
    {
     "output_type": "stream",
     "name": "stdout",
     "output_type": "stream",
     "text": [
      "=== Resultado da Campanha ===\nPedidos extras (incrementais): 151432\nValor extra movimentado: R$ 10,945,111.68\nLucro estimado extra (margem 25%): R$ 2,736,277.92\nCusto total dos cupons: R$ 5,272,670.00\nROI da campanha: -0.48\n"
     ]
    }
   ],
   "source": [
    "# Impacto incremental e ROI\n",
    "\n",
    "control = price_group_metrics.filter(price_group_metrics['is_target'] == 'control').collect()[0]\n",
    "target = price_group_metrics.filter(price_group_metrics['is_target'] == 'target').collect()[0]\n",
    "\n",
    "# Cálculo incremental\n",
    "pedidos_extra = target[\"num_pedidos\"] - control[\"num_pedidos\"]\n",
    "valor_extra = target[\"valor_total\"] - control[\"valor_total\"]\n",
    "lucro_extra = valor_extra * margem\n",
    "custo_total_cupons = target[\"num_pedidos\"] * custo_cupom\n",
    "roi = (lucro_extra - custo_total_cupons) / custo_total_cupons if custo_total_cupons > 0 else None\n",
    "\n",
    "# Resultado\n",
    "print(\"=== Resultado da Campanha ===\")\n",
    "print(f\"Pedidos extras (incrementais): {pedidos_extra}\")\n",
    "print(f\"Valor extra movimentado: R$ {valor_extra:,.2f}\")\n",
    "print(f\"Lucro estimado extra (margem 25%): R$ {lucro_extra:,.2f}\")\n",
    "print(f\"Custo total dos cupons: R$ {custo_total_cupons:,.2f}\")\n",
    "print(f\"ROI da campanha: {roi:.2f}\" if roi is not None else \"ROI: indefinido (divisão por zero)\")"
   ]
  },
  {
   "cell_type": "code",
   "execution_count": 0,
   "metadata": {
    "application/vnd.databricks.v1+cell": {
     "cellMetadata": {
      "byteLimit": 2048000,
      "rowLimit": 10000
     },
     "inputWidgets": {},
     "nuid": "b1f4ee2c-c9a6-44c3-8a57-72d371bf3e55",
     "showTitle": false,
     "tableResultSettingsMap": {},
     "title": ""
    }
   },
   "outputs": [
    {
     "output_type": "stream",
     "name": "stdout",
     "output_type": "stream",
     "text": [
      "=== Meta de retenção ===\nMeta de lucro: R$ 3,063,659.08\nValor total de pedidos: R$ 12,254,636.32\nNúmero de pedidos: 163,068.17\nTaxa de retenção necessária: 0.31\n"
     ]
    }
   ],
   "source": [
    "lucro_target = (roi_target*custo_total_cupons) + custo_total_cupons\n",
    "lucro_gap = lucro_target - lucro_extra\n",
    "total_pedidos = lucro_gap/margem\n",
    "numero_pedidos = total_pedidos/target['ticket_medio']\n",
    "taxa_retencao_target = numero_pedidos/target['usuarios']\n",
    "\n",
    "# Expectativa de retorno\n",
    "print(\"=== Meta de retenção ===\")\n",
    "print(f\"Meta de lucro: R$ {lucro_gap:,.2f}\")\n",
    "print(f\"Valor total de pedidos: R$ {total_pedidos:,.2f}\")\n",
    "print(f\"Número de pedidos: {numero_pedidos:,.2f}\")\n",
    "print(f\"Taxa de retenção necessária: {taxa_retencao_target:,.2f}\")"
   ]
  }
 ],
 "metadata": {
  "application/vnd.databricks.v1+notebook": {
   "computePreferences": null,
   "dashboards": [],
   "environmentMetadata": {
    "base_environment": "",
    "environment_version": "2"
   },
   "inputWidgetPreferences": null,
   "language": "python",
   "notebookMetadata": {
    "pythonIndentUnit": 4
   },
   "notebookName": "simulacoes",
   "widgets": {}
  },
  "language_info": {
   "name": "python"
  }
 },
 "nbformat": 4,
 "nbformat_minor": 0
}